{
 "cells": [
  {
   "cell_type": "markdown",
   "metadata": {},
   "source": [
    "---\n",
    "\n",
    "_You are currently looking at **version 1.2** of this notebook. To download notebooks and datafiles, as well as get help on Jupyter notebooks in the Coursera platform, visit the [Jupyter Notebook FAQ](https://www.coursera.org/learn/python-data-analysis/resources/0dhYG) course resource._\n",
    "\n",
    "---"
   ]
  },
  {
   "cell_type": "markdown",
   "metadata": {},
   "source": [
    "# Assignment 2 - Pandas Introduction\n",
    "All questions are weighted the same in this assignment.\n",
    "## Part 1\n",
    "The following code loads the olympics dataset (olympics.csv), which was derrived from the Wikipedia entry on [All Time Olympic Games Medals](https://en.wikipedia.org/wiki/All-time_Olympic_Games_medal_table), and does some basic data cleaning. \n",
    "\n",
    "The columns are organized as # of Summer games, Summer medals, # of Winter games, Winter medals, total # number of games, total # of medals. Use this dataset to answer the questions below."
   ]
  },
  {
   "cell_type": "code",
   "execution_count": 7,
   "metadata": {
    "nbgrader": {
     "grade": false,
     "grade_id": "1",
     "locked": false,
     "solution": false
    }
   },
   "outputs": [
    {
     "ename": "AttributeError",
     "evalue": "Can only use .str accessor with string values (i.e. inferred_type is 'string', 'unicode' or 'mixed')",
     "output_type": "error",
     "traceback": [
      "\u001b[0;31m\u001b[0m",
      "\u001b[0;31mAttributeError\u001b[0mTraceback (most recent call last)",
      "\u001b[0;32m<ipython-input-7-41b025094e72>\u001b[0m in \u001b[0;36m<module>\u001b[0;34m()\u001b[0m\n\u001b[1;32m     16\u001b[0m \u001b[0;34m\u001b[0m\u001b[0m\n\u001b[1;32m     17\u001b[0m \u001b[0mdf\u001b[0m\u001b[0;34m.\u001b[0m\u001b[0mindex\u001b[0m \u001b[0;34m=\u001b[0m \u001b[0mnames_ids\u001b[0m\u001b[0;34m.\u001b[0m\u001b[0mstr\u001b[0m\u001b[0;34m[\u001b[0m\u001b[0;36m0\u001b[0m\u001b[0;34m]\u001b[0m \u001b[0;31m# the [0] element is the country name (new index)\u001b[0m\u001b[0;34m\u001b[0m\u001b[0m\n\u001b[0;32m---> 18\u001b[0;31m \u001b[0mdf\u001b[0m\u001b[0;34m[\u001b[0m\u001b[0;34m'ID'\u001b[0m\u001b[0;34m]\u001b[0m \u001b[0;34m=\u001b[0m \u001b[0mnames_ids\u001b[0m\u001b[0;34m.\u001b[0m\u001b[0mstr\u001b[0m\u001b[0;34m[\u001b[0m\u001b[0;36m1\u001b[0m\u001b[0;34m]\u001b[0m\u001b[0;34m.\u001b[0m\u001b[0mstr\u001b[0m\u001b[0;34m[\u001b[0m\u001b[0;34m:\u001b[0m\u001b[0;36m3\u001b[0m\u001b[0;34m]\u001b[0m \u001b[0;31m# the [1] element is the abbreviation or ID (take first 3 characters from that)\u001b[0m\u001b[0;34m\u001b[0m\u001b[0m\n\u001b[0m\u001b[1;32m     19\u001b[0m \u001b[0;34m\u001b[0m\u001b[0m\n\u001b[1;32m     20\u001b[0m \u001b[0mdf\u001b[0m \u001b[0;34m=\u001b[0m \u001b[0mdf\u001b[0m\u001b[0;34m.\u001b[0m\u001b[0mdrop\u001b[0m\u001b[0;34m(\u001b[0m\u001b[0;34m'Totals'\u001b[0m\u001b[0;34m)\u001b[0m\u001b[0;34m\u001b[0m\u001b[0m\n",
      "\u001b[0;32m/home/nimit/anaconda2/lib/python2.7/site-packages/pandas/core/base.pyc\u001b[0m in \u001b[0;36m__get__\u001b[0;34m(self, instance, owner)\u001b[0m\n\u001b[1;32m    241\u001b[0m             \u001b[0;31m# this ensures that Series.str.<method> is well defined\u001b[0m\u001b[0;34m\u001b[0m\u001b[0;34m\u001b[0m\u001b[0m\n\u001b[1;32m    242\u001b[0m             \u001b[0;32mreturn\u001b[0m \u001b[0mself\u001b[0m\u001b[0;34m.\u001b[0m\u001b[0maccessor_cls\u001b[0m\u001b[0;34m\u001b[0m\u001b[0m\n\u001b[0;32m--> 243\u001b[0;31m         \u001b[0;32mreturn\u001b[0m \u001b[0mself\u001b[0m\u001b[0;34m.\u001b[0m\u001b[0mconstruct_accessor\u001b[0m\u001b[0;34m(\u001b[0m\u001b[0minstance\u001b[0m\u001b[0;34m)\u001b[0m\u001b[0;34m\u001b[0m\u001b[0m\n\u001b[0m\u001b[1;32m    244\u001b[0m \u001b[0;34m\u001b[0m\u001b[0m\n\u001b[1;32m    245\u001b[0m     \u001b[0;32mdef\u001b[0m \u001b[0m__set__\u001b[0m\u001b[0;34m(\u001b[0m\u001b[0mself\u001b[0m\u001b[0;34m,\u001b[0m \u001b[0minstance\u001b[0m\u001b[0;34m,\u001b[0m \u001b[0mvalue\u001b[0m\u001b[0;34m)\u001b[0m\u001b[0;34m:\u001b[0m\u001b[0;34m\u001b[0m\u001b[0m\n",
      "\u001b[0;32m/home/nimit/anaconda2/lib/python2.7/site-packages/pandas/core/strings.pyc\u001b[0m in \u001b[0;36m_make_str_accessor\u001b[0;34m(self)\u001b[0m\n\u001b[1;32m   1919\u001b[0m                            \u001b[0;34m\"(i.e. inferred_type is 'string', 'unicode' or \"\u001b[0m\u001b[0;34m\u001b[0m\u001b[0m\n\u001b[1;32m   1920\u001b[0m                            \"'mixed')\")\n\u001b[0;32m-> 1921\u001b[0;31m                 \u001b[0;32mraise\u001b[0m \u001b[0mAttributeError\u001b[0m\u001b[0;34m(\u001b[0m\u001b[0mmessage\u001b[0m\u001b[0;34m)\u001b[0m\u001b[0;34m\u001b[0m\u001b[0m\n\u001b[0m\u001b[1;32m   1922\u001b[0m             \u001b[0;32mif\u001b[0m \u001b[0mself\u001b[0m\u001b[0;34m.\u001b[0m\u001b[0mnlevels\u001b[0m \u001b[0;34m>\u001b[0m \u001b[0;36m1\u001b[0m\u001b[0;34m:\u001b[0m\u001b[0;34m\u001b[0m\u001b[0m\n\u001b[1;32m   1923\u001b[0m                 message = (\"Can only use .str accessor with Index, not \"\n",
      "\u001b[0;31mAttributeError\u001b[0m: Can only use .str accessor with string values (i.e. inferred_type is 'string', 'unicode' or 'mixed')"
     ]
    }
   ],
   "source": [
    "import pandas as pd\n",
    "\n",
    "df = pd.read_csv('olympics.csv', index_col=0, skiprows=1)\n",
    "\n",
    "for col in df.columns:\n",
    "    if col[:2]=='01':\n",
    "        df.rename(columns={col:'Gold'+col[4:]}, inplace=True)\n",
    "    if col[:2]=='02':\n",
    "        df.rename(columns={col:'Silver'+col[4:]}, inplace=True)\n",
    "    if col[:2]=='03':\n",
    "        df.rename(columns={col:'Bronze'+col[4:]}, inplace=True)\n",
    "    if col[:1]=='№':\n",
    "        df.rename(columns={col:'#'+col[1:]}, inplace=True)\n",
    "\n",
    "names_ids = df.index.str.split('\\s\\(') # split the index by '('\n",
    "\n",
    "df.index = names_ids.str[0] # the [0] element is the country name (new index) \n",
    "df['ID'] = names_ids.str[1].str[:3] # the [1] element is the abbreviation or ID (take first 3 characters from that)\n",
    "\n",
    "df = df.drop('Totals')\n",
    "df.head()\n"
   ]
  },
  {
   "cell_type": "markdown",
   "metadata": {},
   "source": [
    "### Question 0 (Example)\n",
    "\n",
    "What is the first country in df?\n",
    "\n",
    "*This function should return a Series.*"
   ]
  },
  {
   "cell_type": "code",
   "execution_count": 5,
   "metadata": {},
   "outputs": [
    {
     "data": {
      "text/plain": [
       "# Summer           13\n",
       "Gold                0\n",
       "Silver              0\n",
       "Bronze              2\n",
       "Total               2\n",
       "# Winter            0\n",
       "Gold.1              0\n",
       "Silver.1            0\n",
       "Bronze.1            0\n",
       "Total.1             0\n",
       "# Games            13\n",
       "Gold.2              0\n",
       "Silver.2            0\n",
       "Bronze.2            2\n",
       "Combined total      2\n",
       "ID                AFG\n",
       "Name: Afghanistan, dtype: object"
      ]
     },
     "execution_count": 5,
     "metadata": {},
     "output_type": "execute_result"
    }
   ],
   "source": [
    "# You should write your whole answer within the function provided. The autograder will call\n",
    "# this function and compare the return value against the correct solution value\n",
    "def answer_zero():\n",
    "    # This function returns the row for Afghanistan, which is a Series object. The assignment\n",
    "    # question description will tell you the general format the autograder is expecting\n",
    "    \n",
    "    return df.iloc[0]\n",
    "\n",
    "# You can examine what your function returns by calling it in the cell. If you have questions\n",
    "# about the assignment formats, check out the discussion forums for any FAQs\n",
    "answer_zero() "
   ]
  },
  {
   "cell_type": "markdown",
   "metadata": {},
   "source": [
    "### Question 1\n",
    "Which country has won the most gold medals in summer games?\n",
    "\n",
    "*This function should return a single string value.*"
   ]
  },
  {
   "cell_type": "code",
   "execution_count": 6,
   "metadata": {
    "nbgrader": {
     "grade": false,
     "locked": false,
     "solution": false
    }
   },
   "outputs": [
    {
     "name": "stderr",
     "output_type": "stream",
     "text": [
      "/opt/conda/lib/python3.5/site-packages/ipykernel/__main__.py:6: FutureWarning: sort(columns=....) is deprecated, use sort_values(by=.....)\n"
     ]
    },
    {
     "data": {
      "text/html": [
       "<div>\n",
       "<table border=\"1\" class=\"dataframe\">\n",
       "  <thead>\n",
       "    <tr style=\"text-align: right;\">\n",
       "      <th></th>\n",
       "      <th># Summer</th>\n",
       "      <th>Gold</th>\n",
       "      <th>Silver</th>\n",
       "      <th>Bronze</th>\n",
       "      <th>Total</th>\n",
       "      <th># Winter</th>\n",
       "      <th>Gold.1</th>\n",
       "      <th>Silver.1</th>\n",
       "      <th>Bronze.1</th>\n",
       "      <th>Total.1</th>\n",
       "      <th># Games</th>\n",
       "      <th>Gold.2</th>\n",
       "      <th>Silver.2</th>\n",
       "      <th>Bronze.2</th>\n",
       "      <th>Combined total</th>\n",
       "      <th>ID</th>\n",
       "    </tr>\n",
       "  </thead>\n",
       "  <tbody>\n",
       "    <tr>\n",
       "      <th>United States</th>\n",
       "      <td>26</td>\n",
       "      <td>976</td>\n",
       "      <td>757</td>\n",
       "      <td>666</td>\n",
       "      <td>2399</td>\n",
       "      <td>22</td>\n",
       "      <td>96</td>\n",
       "      <td>102</td>\n",
       "      <td>84</td>\n",
       "      <td>282</td>\n",
       "      <td>48</td>\n",
       "      <td>1072</td>\n",
       "      <td>859</td>\n",
       "      <td>750</td>\n",
       "      <td>2681</td>\n",
       "      <td>USA</td>\n",
       "    </tr>\n",
       "    <tr>\n",
       "      <th>Soviet Union</th>\n",
       "      <td>9</td>\n",
       "      <td>395</td>\n",
       "      <td>319</td>\n",
       "      <td>296</td>\n",
       "      <td>1010</td>\n",
       "      <td>9</td>\n",
       "      <td>78</td>\n",
       "      <td>57</td>\n",
       "      <td>59</td>\n",
       "      <td>194</td>\n",
       "      <td>18</td>\n",
       "      <td>473</td>\n",
       "      <td>376</td>\n",
       "      <td>355</td>\n",
       "      <td>1204</td>\n",
       "      <td>URS</td>\n",
       "    </tr>\n",
       "    <tr>\n",
       "      <th>Great Britain</th>\n",
       "      <td>27</td>\n",
       "      <td>236</td>\n",
       "      <td>272</td>\n",
       "      <td>272</td>\n",
       "      <td>780</td>\n",
       "      <td>22</td>\n",
       "      <td>10</td>\n",
       "      <td>4</td>\n",
       "      <td>12</td>\n",
       "      <td>26</td>\n",
       "      <td>49</td>\n",
       "      <td>246</td>\n",
       "      <td>276</td>\n",
       "      <td>284</td>\n",
       "      <td>806</td>\n",
       "      <td>GBR</td>\n",
       "    </tr>\n",
       "    <tr>\n",
       "      <th>France</th>\n",
       "      <td>27</td>\n",
       "      <td>202</td>\n",
       "      <td>223</td>\n",
       "      <td>246</td>\n",
       "      <td>671</td>\n",
       "      <td>22</td>\n",
       "      <td>31</td>\n",
       "      <td>31</td>\n",
       "      <td>47</td>\n",
       "      <td>109</td>\n",
       "      <td>49</td>\n",
       "      <td>233</td>\n",
       "      <td>254</td>\n",
       "      <td>293</td>\n",
       "      <td>780</td>\n",
       "      <td>FRA</td>\n",
       "    </tr>\n",
       "    <tr>\n",
       "      <th>China</th>\n",
       "      <td>9</td>\n",
       "      <td>201</td>\n",
       "      <td>146</td>\n",
       "      <td>126</td>\n",
       "      <td>473</td>\n",
       "      <td>10</td>\n",
       "      <td>12</td>\n",
       "      <td>22</td>\n",
       "      <td>19</td>\n",
       "      <td>53</td>\n",
       "      <td>19</td>\n",
       "      <td>213</td>\n",
       "      <td>168</td>\n",
       "      <td>145</td>\n",
       "      <td>526</td>\n",
       "      <td>CHN</td>\n",
       "    </tr>\n",
       "  </tbody>\n",
       "</table>\n",
       "</div>"
      ],
      "text/plain": [
       "               # Summer  Gold  Silver  Bronze  Total  # Winter  Gold.1  \\\n",
       "United States        26   976     757     666   2399        22      96   \n",
       "Soviet Union          9   395     319     296   1010         9      78   \n",
       "Great Britain        27   236     272     272    780        22      10   \n",
       "France               27   202     223     246    671        22      31   \n",
       "China                 9   201     146     126    473        10      12   \n",
       "\n",
       "               Silver.1  Bronze.1  Total.1  # Games  Gold.2  Silver.2  \\\n",
       "United States       102        84      282       48    1072       859   \n",
       "Soviet Union         57        59      194       18     473       376   \n",
       "Great Britain         4        12       26       49     246       276   \n",
       "France               31        47      109       49     233       254   \n",
       "China                22        19       53       19     213       168   \n",
       "\n",
       "               Bronze.2  Combined total   ID  \n",
       "United States       750            2681  USA  \n",
       "Soviet Union        355            1204  URS  \n",
       "Great Britain       284             806  GBR  \n",
       "France              293             780  FRA  \n",
       "China               145             526  CHN  "
      ]
     },
     "execution_count": 6,
     "metadata": {},
     "output_type": "execute_result"
    }
   ],
   "source": [
    "\n",
    "def answer_one():\n",
    "    \n",
    "    \n",
    "    return 'United States'\n",
    "df.sort(['Gold'],ascending=[False]).head()\n",
    "\n"
   ]
  },
  {
   "cell_type": "markdown",
   "metadata": {},
   "source": [
    "### Question 2\n",
    "Which country had the biggest difference between their summer and winter gold medal counts?\n",
    "\n",
    "*This function should return a single string value.*"
   ]
  },
  {
   "cell_type": "code",
   "execution_count": 7,
   "metadata": {},
   "outputs": [
    {
     "name": "stderr",
     "output_type": "stream",
     "text": [
      "/opt/conda/lib/python3.5/site-packages/ipykernel/__main__.py:4: FutureWarning: sort(columns=....) is deprecated, use sort_values(by=.....)\n"
     ]
    },
    {
     "data": {
      "text/html": [
       "<div>\n",
       "<table border=\"1\" class=\"dataframe\">\n",
       "  <thead>\n",
       "    <tr style=\"text-align: right;\">\n",
       "      <th></th>\n",
       "      <th># Summer</th>\n",
       "      <th>Gold</th>\n",
       "      <th>Silver</th>\n",
       "      <th>Bronze</th>\n",
       "      <th>Total</th>\n",
       "      <th># Winter</th>\n",
       "      <th>Gold.1</th>\n",
       "      <th>Silver.1</th>\n",
       "      <th>Bronze.1</th>\n",
       "      <th>Total.1</th>\n",
       "      <th># Games</th>\n",
       "      <th>Gold.2</th>\n",
       "      <th>Silver.2</th>\n",
       "      <th>Bronze.2</th>\n",
       "      <th>Combined total</th>\n",
       "      <th>ID</th>\n",
       "      <th>diff</th>\n",
       "    </tr>\n",
       "  </thead>\n",
       "  <tbody>\n",
       "    <tr>\n",
       "      <th>United States</th>\n",
       "      <td>26</td>\n",
       "      <td>976</td>\n",
       "      <td>757</td>\n",
       "      <td>666</td>\n",
       "      <td>2399</td>\n",
       "      <td>22</td>\n",
       "      <td>96</td>\n",
       "      <td>102</td>\n",
       "      <td>84</td>\n",
       "      <td>282</td>\n",
       "      <td>48</td>\n",
       "      <td>1072</td>\n",
       "      <td>859</td>\n",
       "      <td>750</td>\n",
       "      <td>2681</td>\n",
       "      <td>USA</td>\n",
       "      <td>880</td>\n",
       "    </tr>\n",
       "    <tr>\n",
       "      <th>Soviet Union</th>\n",
       "      <td>9</td>\n",
       "      <td>395</td>\n",
       "      <td>319</td>\n",
       "      <td>296</td>\n",
       "      <td>1010</td>\n",
       "      <td>9</td>\n",
       "      <td>78</td>\n",
       "      <td>57</td>\n",
       "      <td>59</td>\n",
       "      <td>194</td>\n",
       "      <td>18</td>\n",
       "      <td>473</td>\n",
       "      <td>376</td>\n",
       "      <td>355</td>\n",
       "      <td>1204</td>\n",
       "      <td>URS</td>\n",
       "      <td>317</td>\n",
       "    </tr>\n",
       "    <tr>\n",
       "      <th>Great Britain</th>\n",
       "      <td>27</td>\n",
       "      <td>236</td>\n",
       "      <td>272</td>\n",
       "      <td>272</td>\n",
       "      <td>780</td>\n",
       "      <td>22</td>\n",
       "      <td>10</td>\n",
       "      <td>4</td>\n",
       "      <td>12</td>\n",
       "      <td>26</td>\n",
       "      <td>49</td>\n",
       "      <td>246</td>\n",
       "      <td>276</td>\n",
       "      <td>284</td>\n",
       "      <td>806</td>\n",
       "      <td>GBR</td>\n",
       "      <td>226</td>\n",
       "    </tr>\n",
       "    <tr>\n",
       "      <th>China</th>\n",
       "      <td>9</td>\n",
       "      <td>201</td>\n",
       "      <td>146</td>\n",
       "      <td>126</td>\n",
       "      <td>473</td>\n",
       "      <td>10</td>\n",
       "      <td>12</td>\n",
       "      <td>22</td>\n",
       "      <td>19</td>\n",
       "      <td>53</td>\n",
       "      <td>19</td>\n",
       "      <td>213</td>\n",
       "      <td>168</td>\n",
       "      <td>145</td>\n",
       "      <td>526</td>\n",
       "      <td>CHN</td>\n",
       "      <td>189</td>\n",
       "    </tr>\n",
       "    <tr>\n",
       "      <th>France</th>\n",
       "      <td>27</td>\n",
       "      <td>202</td>\n",
       "      <td>223</td>\n",
       "      <td>246</td>\n",
       "      <td>671</td>\n",
       "      <td>22</td>\n",
       "      <td>31</td>\n",
       "      <td>31</td>\n",
       "      <td>47</td>\n",
       "      <td>109</td>\n",
       "      <td>49</td>\n",
       "      <td>233</td>\n",
       "      <td>254</td>\n",
       "      <td>293</td>\n",
       "      <td>780</td>\n",
       "      <td>FRA</td>\n",
       "      <td>171</td>\n",
       "    </tr>\n",
       "  </tbody>\n",
       "</table>\n",
       "</div>"
      ],
      "text/plain": [
       "               # Summer  Gold  Silver  Bronze  Total  # Winter  Gold.1  \\\n",
       "United States        26   976     757     666   2399        22      96   \n",
       "Soviet Union          9   395     319     296   1010         9      78   \n",
       "Great Britain        27   236     272     272    780        22      10   \n",
       "China                 9   201     146     126    473        10      12   \n",
       "France               27   202     223     246    671        22      31   \n",
       "\n",
       "               Silver.1  Bronze.1  Total.1  # Games  Gold.2  Silver.2  \\\n",
       "United States       102        84      282       48    1072       859   \n",
       "Soviet Union         57        59      194       18     473       376   \n",
       "Great Britain         4        12       26       49     246       276   \n",
       "China                22        19       53       19     213       168   \n",
       "France               31        47      109       49     233       254   \n",
       "\n",
       "               Bronze.2  Combined total   ID  diff  \n",
       "United States       750            2681  USA   880  \n",
       "Soviet Union        355            1204  URS   317  \n",
       "Great Britain       284             806  GBR   226  \n",
       "China               145             526  CHN   189  \n",
       "France              293             780  FRA   171  "
      ]
     },
     "execution_count": 7,
     "metadata": {},
     "output_type": "execute_result"
    }
   ],
   "source": [
    "def answer_two():\n",
    "    return \"United States\"\n",
    "df['diff']= df['Gold'] - df['Gold.1']\n",
    "df.sort(['diff'],ascending=False).head()"
   ]
  },
  {
   "cell_type": "markdown",
   "metadata": {},
   "source": [
    "### Question 3\n",
    "Which country has the biggest difference between their summer gold medal counts and winter gold medal counts relative to their total gold medal count? \n",
    "\n",
    "$$\\frac{Summer~Gold - Winter~Gold}{Total~Gold}$$\n",
    "\n",
    "Only include countries that have won at least 1 gold in both summer and winter.\n",
    "\n",
    "*This function should return a single string value.*"
   ]
  },
  {
   "cell_type": "code",
   "execution_count": null,
   "metadata": {
    "collapsed": true
   },
   "outputs": [],
   "source": []
  },
  {
   "cell_type": "code",
   "execution_count": 8,
   "metadata": {},
   "outputs": [
    {
     "name": "stderr",
     "output_type": "stream",
     "text": [
      "/opt/conda/lib/python3.5/site-packages/ipykernel/__main__.py:4: FutureWarning: sort(columns=....) is deprecated, use sort_values(by=.....)\n"
     ]
    },
    {
     "data": {
      "text/html": [
       "<div>\n",
       "<table border=\"1\" class=\"dataframe\">\n",
       "  <thead>\n",
       "    <tr style=\"text-align: right;\">\n",
       "      <th></th>\n",
       "      <th># Summer</th>\n",
       "      <th>Gold</th>\n",
       "      <th>Silver</th>\n",
       "      <th>Bronze</th>\n",
       "      <th>Total</th>\n",
       "      <th># Winter</th>\n",
       "      <th>Gold.1</th>\n",
       "      <th>Silver.1</th>\n",
       "      <th>Bronze.1</th>\n",
       "      <th>Total.1</th>\n",
       "      <th># Games</th>\n",
       "      <th>Gold.2</th>\n",
       "      <th>Silver.2</th>\n",
       "      <th>Bronze.2</th>\n",
       "      <th>Combined total</th>\n",
       "      <th>ID</th>\n",
       "      <th>diff</th>\n",
       "      <th>diff2</th>\n",
       "    </tr>\n",
       "  </thead>\n",
       "  <tbody>\n",
       "    <tr>\n",
       "      <th>Bulgaria</th>\n",
       "      <td>19</td>\n",
       "      <td>51</td>\n",
       "      <td>85</td>\n",
       "      <td>78</td>\n",
       "      <td>214</td>\n",
       "      <td>19</td>\n",
       "      <td>1</td>\n",
       "      <td>2</td>\n",
       "      <td>3</td>\n",
       "      <td>6</td>\n",
       "      <td>38</td>\n",
       "      <td>52</td>\n",
       "      <td>87</td>\n",
       "      <td>81</td>\n",
       "      <td>220</td>\n",
       "      <td>BUL</td>\n",
       "      <td>50</td>\n",
       "      <td>0.961538</td>\n",
       "    </tr>\n",
       "    <tr>\n",
       "      <th>Belgium</th>\n",
       "      <td>25</td>\n",
       "      <td>37</td>\n",
       "      <td>52</td>\n",
       "      <td>53</td>\n",
       "      <td>142</td>\n",
       "      <td>20</td>\n",
       "      <td>1</td>\n",
       "      <td>1</td>\n",
       "      <td>3</td>\n",
       "      <td>5</td>\n",
       "      <td>45</td>\n",
       "      <td>38</td>\n",
       "      <td>53</td>\n",
       "      <td>56</td>\n",
       "      <td>147</td>\n",
       "      <td>BEL</td>\n",
       "      <td>36</td>\n",
       "      <td>0.947368</td>\n",
       "    </tr>\n",
       "    <tr>\n",
       "      <th>Spain</th>\n",
       "      <td>22</td>\n",
       "      <td>37</td>\n",
       "      <td>59</td>\n",
       "      <td>35</td>\n",
       "      <td>131</td>\n",
       "      <td>19</td>\n",
       "      <td>1</td>\n",
       "      <td>0</td>\n",
       "      <td>1</td>\n",
       "      <td>2</td>\n",
       "      <td>41</td>\n",
       "      <td>38</td>\n",
       "      <td>59</td>\n",
       "      <td>36</td>\n",
       "      <td>133</td>\n",
       "      <td>ESP</td>\n",
       "      <td>36</td>\n",
       "      <td>0.947368</td>\n",
       "    </tr>\n",
       "    <tr>\n",
       "      <th>Australia</th>\n",
       "      <td>25</td>\n",
       "      <td>139</td>\n",
       "      <td>152</td>\n",
       "      <td>177</td>\n",
       "      <td>468</td>\n",
       "      <td>18</td>\n",
       "      <td>5</td>\n",
       "      <td>3</td>\n",
       "      <td>4</td>\n",
       "      <td>12</td>\n",
       "      <td>43</td>\n",
       "      <td>144</td>\n",
       "      <td>155</td>\n",
       "      <td>181</td>\n",
       "      <td>480</td>\n",
       "      <td>AUS</td>\n",
       "      <td>134</td>\n",
       "      <td>0.930556</td>\n",
       "    </tr>\n",
       "    <tr>\n",
       "      <th>Czechoslovakia</th>\n",
       "      <td>16</td>\n",
       "      <td>49</td>\n",
       "      <td>49</td>\n",
       "      <td>45</td>\n",
       "      <td>143</td>\n",
       "      <td>16</td>\n",
       "      <td>2</td>\n",
       "      <td>8</td>\n",
       "      <td>15</td>\n",
       "      <td>25</td>\n",
       "      <td>32</td>\n",
       "      <td>51</td>\n",
       "      <td>57</td>\n",
       "      <td>60</td>\n",
       "      <td>168</td>\n",
       "      <td>TCH</td>\n",
       "      <td>47</td>\n",
       "      <td>0.921569</td>\n",
       "    </tr>\n",
       "  </tbody>\n",
       "</table>\n",
       "</div>"
      ],
      "text/plain": [
       "                # Summer  Gold  Silver  Bronze  Total  # Winter  Gold.1  \\\n",
       "Bulgaria              19    51      85      78    214        19       1   \n",
       "Belgium               25    37      52      53    142        20       1   \n",
       "Spain                 22    37      59      35    131        19       1   \n",
       "Australia             25   139     152     177    468        18       5   \n",
       "Czechoslovakia        16    49      49      45    143        16       2   \n",
       "\n",
       "                Silver.1  Bronze.1  Total.1  # Games  Gold.2  Silver.2  \\\n",
       "Bulgaria               2         3        6       38      52        87   \n",
       "Belgium                1         3        5       45      38        53   \n",
       "Spain                  0         1        2       41      38        59   \n",
       "Australia              3         4       12       43     144       155   \n",
       "Czechoslovakia         8        15       25       32      51        57   \n",
       "\n",
       "                Bronze.2  Combined total   ID  diff     diff2  \n",
       "Bulgaria              81             220  BUL    50  0.961538  \n",
       "Belgium               56             147  BEL    36  0.947368  \n",
       "Spain                 36             133  ESP    36  0.947368  \n",
       "Australia            181             480  AUS   134  0.930556  \n",
       "Czechoslovakia        60             168  TCH    47  0.921569  "
      ]
     },
     "execution_count": 8,
     "metadata": {},
     "output_type": "execute_result"
    }
   ],
   "source": [
    "def answer_three():\n",
    "    return \"Bulgaria\"\n",
    "df['diff2']=(df[(df['Gold']>0) & (df['Gold.1']>0)]['Gold']-df[(df['Gold']>0) & (df['Gold.1']>0)]['Gold.1'])/df['Gold.2']\n",
    "df.sort(['diff2'],ascending=False).head()"
   ]
  },
  {
   "cell_type": "markdown",
   "metadata": {},
   "source": [
    "### Question 4\n",
    "Write a function that creates a Series called \"Points\" which is a weighted value where each gold medal (`Gold.2`) counts for 3 points, silver medals (`Silver.2`) for 2 points, and bronze medals (`Bronze.2`) for 1 point. The function should return only the column (a Series object) which you created.\n",
    "\n",
    "*This function should return a Series named `Points` of length 146*"
   ]
  },
  {
   "cell_type": "code",
   "execution_count": 12,
   "metadata": {},
   "outputs": [
    {
     "name": "stdout",
     "output_type": "stream",
     "text": [
      "<class 'pandas.core.series.Series'>\n"
     ]
    },
    {
     "data": {
      "text/plain": [
       "Afghanistan                            2\n",
       "Algeria                               27\n",
       "Argentina                            130\n",
       "Armenia                               16\n",
       "Australasia                           22\n",
       "Australia                            923\n",
       "Austria                              569\n",
       "Azerbaijan                            43\n",
       "Bahamas                               24\n",
       "Bahrain                                1\n",
       "Barbados                               1\n",
       "Belarus                              154\n",
       "Belgium                              276\n",
       "Bermuda                                1\n",
       "Bohemia                                5\n",
       "Botswana                               2\n",
       "Brazil                               184\n",
       "British West Indies                    2\n",
       "Bulgaria                             411\n",
       "Burundi                                3\n",
       "Cameroon                              12\n",
       "Canada                               846\n",
       "Chile                                 24\n",
       "China                               1120\n",
       "Colombia                              29\n",
       "Costa Rica                             7\n",
       "Ivory Coast                            2\n",
       "Croatia                               67\n",
       "Cuba                                 420\n",
       "Cyprus                                 2\n",
       "                                    ... \n",
       "Spain                                268\n",
       "Sri Lanka                              4\n",
       "Sudan                                  2\n",
       "Suriname                               4\n",
       "Sweden                              1217\n",
       "Switzerland                          630\n",
       "Syria                                  6\n",
       "Chinese Taipei                        32\n",
       "Tajikistan                             4\n",
       "Tanzania                               4\n",
       "Thailand                              44\n",
       "Togo                                   1\n",
       "Tonga                                  2\n",
       "Trinidad and Tobago                   27\n",
       "Tunisia                               19\n",
       "Turkey                               191\n",
       "Uganda                                14\n",
       "Ukraine                              220\n",
       "United Arab Emirates                   3\n",
       "United States                       5684\n",
       "Uruguay                               16\n",
       "Uzbekistan                            38\n",
       "Venezuela                             18\n",
       "Vietnam                                4\n",
       "Virgin Islands                         2\n",
       "Yugoslavia                           171\n",
       "Independent Olympic Participants       4\n",
       "Zambia                                 3\n",
       "Zimbabwe                              18\n",
       "Mixed team                            38\n",
       "dtype: int64"
      ]
     },
     "execution_count": 12,
     "metadata": {},
     "output_type": "execute_result"
    }
   ],
   "source": [
    "def answer_four():\n",
    "    points = df['Gold.2'] * 3 + df['Silver.2'] * 2 + df['Bronze.2']\n",
    "    print(type(points))\n",
    "    return points\n",
    "\n",
    "\n",
    "#points\n",
    "answer_four()"
   ]
  },
  {
   "cell_type": "markdown",
   "metadata": {},
   "source": [
    "## Part 2\n",
    "For the next set of questions, we will be using census data from the [United States Census Bureau](http://www.census.gov/popest/data/counties/totals/2015/CO-EST2015-alldata.html). Counties are political and geographic subdivisions of states in the United States. This dataset contains population data for counties and states in the US from 2010 to 2015. [See this document](http://www.census.gov/popest/data/counties/totals/2015/files/CO-EST2015-alldata.pdf) for a description of the variable names.\n",
    "\n",
    "The census dataset (census.csv) should be loaded as census_df. Answer questions using this as appropriate.\n",
    "\n",
    "### Question 5\n",
    "Which state has the most counties in it? (hint: consider the sumlevel key carefully! You'll need this for future questions too...)\n",
    "\n",
    "*This function should return a single string value.*"
   ]
  },
  {
   "cell_type": "code",
   "execution_count": 31,
   "metadata": {},
   "outputs": [],
   "source": [
    "import pandas as pd\n",
    "census_df = pd.read_csv('census.csv')\n"
   ]
  },
  {
   "cell_type": "code",
   "execution_count": 32,
   "metadata": {},
   "outputs": [
    {
     "name": "stdout",
     "output_type": "stream",
     "text": [
      "Alabama67\n",
      "Arkansas75\n",
      "Georgia159\n",
      "Texas254\n"
     ]
    },
    {
     "data": {
      "text/plain": [
       "254"
      ]
     },
     "execution_count": 32,
     "metadata": {},
     "output_type": "execute_result"
    }
   ],
   "source": [
    "def answer_five():\n",
    "    return \"Texas\"\n",
    "#census_df['SUMLEV'].unique()\n",
    "census_df=census_df[census_df['SUMLEV']==50]\n",
    "census_df=census_df.set_index(['STNAME','CTYNAME'])\n",
    "census_df.head()\n",
    "a=0\n",
    "maxi=0\n",
    "for statename in census_df.index.levels[0]:\n",
    "    a=len(census_df.loc[statename])\n",
    "    if(a>maxi):\n",
    "        maxi=a\n",
    "        print(statename+str(a))\n",
    "maxi\n",
    "#census_df"
   ]
  },
  {
   "cell_type": "markdown",
   "metadata": {},
   "source": [
    "### Question 6\n",
    "Only looking at the three most populous counties for each state, what are the three most populous states (in order of highest population to lowest population)? Use `CENSUS2010POP`.\n",
    "\n",
    "*This function should return a list of string values.*"
   ]
  },
  {
   "cell_type": "code",
   "execution_count": 33,
   "metadata": {},
   "outputs": [
    {
     "data": {
      "text/plain": [
       "['California', 'Texas', 'Illinois']"
      ]
     },
     "execution_count": 33,
     "metadata": {},
     "output_type": "execute_result"
    }
   ],
   "source": [
    "def answer_six():\n",
    "    b={}\n",
    "    c=[]\n",
    "    d=[]\n",
    "    #print(census_df.loc['District of Columbia'])\n",
    "    for st in census_df.index.levels[0]:\n",
    "    #for ts in st['CENSUS2010POP']:\n",
    "     #   a.append(ts)\n",
    "    #for ts in\n",
    "        gf=census_df.loc[st,:]\n",
    "    #f=st.sort_values(gf('CENSUS2010POP'))\n",
    "        a=(gf.sort_values('CENSUS2010POP',ascending=False)['CENSUS2010POP'][:3])\n",
    "\n",
    "        b[a.sum()]=st\n",
    "        c.append(a.sum())\n",
    "        #print(census_df.loc[ts])\n",
    "    c=sorted(c,key=int, reverse=True)\n",
    "    for x in c[:3]:\n",
    "    #print(b[x])\n",
    "        d.append(b[x])\n",
    "    return d\n",
    "answer_six()\n",
    "\n",
    "#census_df.set_index(['CENSUS2010POP'],append=True).sortlevel(2,ascending=False).head()"
   ]
  },
  {
   "cell_type": "markdown",
   "metadata": {
    "collapsed": true
   },
   "source": [
    "# Question 7"
   ]
  },
  {
   "cell_type": "markdown",
   "metadata": {},
   "source": [
    "\n",
    "Which county has had the largest absolute change in population within the period 2010-2015? (Hint: population values are stored in columns POPESTIMATE2010 through POPESTIMATE2015, you need to consider all six columns.)\n",
    "\n",
    "e.g. If County Population in the 5 year period is 100, 120, 80, 105, 100, 130, then its largest change in the period would be |130-80| = 50.\n",
    "\n",
    "*This function should return a single string value.*"
   ]
  },
  {
   "cell_type": "code",
   "execution_count": 34,
   "metadata": {},
   "outputs": [
    {
     "name": "stdout",
     "output_type": "stream",
     "text": [
      "Harris County\n"
     ]
    }
   ],
   "source": [
    "def answer_seven():\n",
    "    return \"Harris County\"\n",
    "a=[]\n",
    "b={}\n",
    "for st in census_df.index.levels[0]:\n",
    "    county=census_df.loc[st]\n",
    "    columns_to_get=['POPESTIMATE2010',\n",
    "                    'POPESTIMATE2011',\n",
    "                    'POPESTIMATE2012',\n",
    "                    'POPESTIMATE2013',\n",
    "                    'POPESTIMATE2014',\n",
    "                    'POPESTIMATE2015']\n",
    "    gf=(county[columns_to_get])\n",
    "    #print(county.index.values)\n",
    "    for ts in county.index.values:\n",
    "        a.append(max(census_df.loc[st,ts].loc[columns_to_get])-min(census_df.loc[st,ts].loc[columns_to_get]))\n",
    "        b[a[-1]]=ts\n",
    "        #print(st +'  '+ ts)\n",
    "print(b[max(a)])"
   ]
  },
  {
   "cell_type": "markdown",
   "metadata": {},
   "source": [
    "### Question 8\n",
    "In this datafile, the United States is broken up into four regions using the \"REGION\" column. \n",
    "\n",
    "Create a query that finds the counties that belong to regions 1 or 2, whose name starts with 'Washington', and whose POPESTIMATE2015 was greater than their POPESTIMATE 2014.\n",
    "\n",
    "*This function should return a 5x2 DataFrame with the columns = ['STNAME', 'CTYNAME'] and the same index ID as the census_df (sorted ascending by index).*"
   ]
  },
  {
   "cell_type": "code",
   "execution_count": 42,
   "metadata": {},
   "outputs": [
    {
     "data": {
      "text/html": [
       "<div>\n",
       "<table border=\"1\" class=\"dataframe\">\n",
       "  <thead>\n",
       "    <tr style=\"text-align: right;\">\n",
       "      <th></th>\n",
       "      <th>STNAME</th>\n",
       "      <th>CTYNAME</th>\n",
       "    </tr>\n",
       "  </thead>\n",
       "  <tbody>\n",
       "    <tr>\n",
       "      <th>896</th>\n",
       "      <td>Iowa</td>\n",
       "      <td>Washington County</td>\n",
       "    </tr>\n",
       "    <tr>\n",
       "      <th>1419</th>\n",
       "      <td>Minnesota</td>\n",
       "      <td>Washington County</td>\n",
       "    </tr>\n",
       "    <tr>\n",
       "      <th>2345</th>\n",
       "      <td>Pennsylvania</td>\n",
       "      <td>Washington County</td>\n",
       "    </tr>\n",
       "    <tr>\n",
       "      <th>2355</th>\n",
       "      <td>Rhode Island</td>\n",
       "      <td>Washington County</td>\n",
       "    </tr>\n",
       "    <tr>\n",
       "      <th>3163</th>\n",
       "      <td>Wisconsin</td>\n",
       "      <td>Washington County</td>\n",
       "    </tr>\n",
       "  </tbody>\n",
       "</table>\n",
       "</div>"
      ],
      "text/plain": [
       "            STNAME            CTYNAME\n",
       "896           Iowa  Washington County\n",
       "1419     Minnesota  Washington County\n",
       "2345  Pennsylvania  Washington County\n",
       "2355  Rhode Island  Washington County\n",
       "3163     Wisconsin  Washington County"
      ]
     },
     "execution_count": 42,
     "metadata": {},
     "output_type": "execute_result"
    }
   ],
   "source": [
    "\n",
    "\n",
    "def answer_eight():\n",
    "    import pandas as pd\n",
    "    census_df = pd.read_csv('census.csv')\n",
    "    census_df=census_df.reset_index()\n",
    "    #print(census_df.head())\n",
    "    #census_df=x\n",
    "    census_df=census_df[census_df['SUMLEV']==50]\n",
    "    cen_df=census_df[((census_df['REGION']== 1 ) | (census_df['REGION']==2)) & (census_df['POPESTIMATE2015']>census_df['POPESTIMATE2014'])]\n",
    "    cen_df=cen_df[cen_df['CTYNAME']=='Washington County'].head()\n",
    "    x=(cen_df[['STNAME', 'CTYNAME']])\n",
    "    return x\n",
    "answer_eight()\n",
    "#for st in cen_df.index.levels[0]\n",
    "    "
   ]
  },
  {
   "cell_type": "code",
   "execution_count": null,
   "metadata": {
    "collapsed": true
   },
   "outputs": [],
   "source": []
  }
 ],
 "metadata": {
  "anaconda-cloud": {},
  "coursera": {
   "course_slug": "python-data-analysis",
   "graded_item_id": "tHmgx",
   "launcher_item_id": "Um6Bz",
   "part_id": "OQsnr"
  },
  "kernelspec": {
   "display_name": "Python 2",
   "language": "python",
   "name": "python2"
  },
  "language_info": {
   "codemirror_mode": {
    "name": "ipython",
    "version": 2
   },
   "file_extension": ".py",
   "mimetype": "text/x-python",
   "name": "python",
   "nbconvert_exporter": "python",
   "pygments_lexer": "ipython2",
   "version": "2.7.13"
  }
 },
 "nbformat": 4,
 "nbformat_minor": 1
}
